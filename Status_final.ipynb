{
 "cells": [
  {
   "cell_type": "code",
   "execution_count": 3,
   "metadata": {},
   "outputs": [],
   "source": [
    "## SkLearn# Collection of string documents\n",
    "corpus = [\n",
    "     'this is the first document',\n",
    "     'this document is the second document',\n",
    "     'and this is the third one',\n",
    "     'is this the first document',\n",
    "]"
   ]
  },
  {
   "cell_type": "code",
   "execution_count": 4,
   "metadata": {},
   "outputs": [],
   "source": [
    "# Write your code here.\n",
    "# Make sure its well documented and readble with appropriate comments.\n",
    "# Compare your results with the above sklearn tfidf vectorizer\n",
    "# You are not supposed to use any other library apart from the ones given below\n",
    "\n",
    "from collections import Counter\n",
    "from tqdm import tqdm\n",
    "from scipy.sparse import csr_matrix\n",
    "import math\n",
    "import operator\n",
    "from sklearn.preprocessing import normalize\n",
    "import numpy"
   ]
  },
  {
   "cell_type": "code",
   "execution_count": 1,
   "metadata": {},
   "outputs": [],
   "source": [
    "def fit(dataset):    \n",
    "    unique_words = set() # at first we will initialize an empty set\n",
    "    # check if its list type or not\n",
    "    if isinstance(dataset, (list,)):\n",
    "        for row in dataset: # for each review in the dataset\n",
    "            for word in row.split(\" \"): # for each word in the review. #split method converts a string into list of words\n",
    "                if len(word) < 2:\n",
    "                    continue\n",
    "                unique_words.add(word)\n",
    "        unique_words = sorted(list(unique_words))\n",
    "        vocab = {j:i for i,j in enumerate(unique_words)}\n",
    "        \n",
    "        return vocab\n",
    "    else:\n",
    "        print(\"you need to pass list of sentance\")"
   ]
  },
  {
   "cell_type": "code",
   "execution_count": 2,
   "metadata": {},
   "outputs": [
    {
     "ename": "NameError",
     "evalue": "name 'corpus' is not defined",
     "output_type": "error",
     "traceback": [
      "\u001b[1;31m---------------------------------------------------------------------------\u001b[0m",
      "\u001b[1;31mNameError\u001b[0m                                 Traceback (most recent call last)",
      "\u001b[1;32m<ipython-input-2-97b65b572842>\u001b[0m in \u001b[0;36m<module>\u001b[1;34m()\u001b[0m\n\u001b[1;32m----> 1\u001b[1;33m \u001b[0mvocab\u001b[0m \u001b[1;33m=\u001b[0m \u001b[0mfit\u001b[0m\u001b[1;33m(\u001b[0m\u001b[0mcorpus\u001b[0m\u001b[1;33m)\u001b[0m\u001b[1;33m\u001b[0m\u001b[0m\n\u001b[0m\u001b[0;32m      2\u001b[0m \u001b[0mprint\u001b[0m\u001b[1;33m(\u001b[0m\u001b[0mvocab\u001b[0m\u001b[1;33m)\u001b[0m\u001b[1;33m\u001b[0m\u001b[0m\n",
      "\u001b[1;31mNameError\u001b[0m: name 'corpus' is not defined"
     ]
    }
   ],
   "source": [
    "vocab = fit(corpus)\n",
    "print(vocab)"
   ]
  },
  {
   "cell_type": "code",
   "execution_count": 3,
   "metadata": {},
   "outputs": [],
   "source": [
    "def transform(dataset,vocab):\n",
    "    rows = []\n",
    "    columns = []\n",
    "    values = []\n",
    "    result = []\n",
    "    if isinstance(dataset, (list,)):\n",
    "        for idx, row in enumerate(tqdm(dataset)): # for each document in the dataset\n",
    "            # it will return a dict type object where key is the word and values is its frequency, {word:frequency}\n",
    "            word_freq = dict(Counter(row.split()))\n",
    "            # for every unique word in the document\n",
    "            for word, freq in word_freq.items():  # for each unique word in the review.                \n",
    "                if len(word) < 2:\n",
    "                    continue\n",
    "                # we will check if its there in the vocabulary that we build in fit() function\n",
    "                # dict.get() function will return the values, if the key doesn't exits it will return -1\n",
    "                col_index = vocab.get(word, -1) # retreving the dimension number of a word\n",
    "                # if the word exists\n",
    "                if col_index !=-1:\n",
    "                    # we are storing the index of the document\n",
    "                    rows.append(idx)\n",
    "                    # we are storing the dimensions of the word\n",
    "                    columns.append(col_index)\n",
    "                    # we are storing the frequency of the word\n",
    "                    values.append(freq)\n",
    "                td = freq/float(len(values))\n",
    "            print(word_freq[word])# the number of times a word occured in a document\n",
    "            print(len(dataset))\n",
    "            idfDict = []\n",
    "            for word in word_freq:\n",
    "                idfDict = 1+math.log((1+len(dataset)) / (1+freq))\n",
    "                print(idfDict)\n",
    "                #return idfDict\n",
    "            #idfDict = idf()\n",
    "                result.append((td)*(idfDict))\n",
    "        print(values)\n",
    "        print(rows)\n",
    "        print(columns)\n",
    "        print(result)\n",
    "        print(len(dataset))\n",
    "        print(len(vocab))\n",
    "        #csr_matrix((data, (row_ind, col_ind)), [shape=(M, N)])\n",
    "        return normalize(csr_matrix((result,(rows,columns)), shape=(len(dataset),len(vocab))),norm='l2')\n",
    "        #return csr_matrix((values, (rows,columns)), shape=(len(dataset),len(vocab)))\n",
    "    else:\n",
    "        print(\"you need to pass list of strings\")"
   ]
  },
  {
   "cell_type": "code",
   "execution_count": 9,
   "metadata": {},
   "outputs": [
    {
     "name": "stderr",
     "output_type": "stream",
     "text": [
      "100%|██████████| 4/4 [00:00<00:00, 2007.56it/s]"
     ]
    },
    {
     "name": "stdout",
     "output_type": "stream",
     "text": [
      "1\n",
      "4\n",
      "1.916290731874155\n",
      "1.916290731874155\n",
      "1.916290731874155\n",
      "1.916290731874155\n",
      "1.916290731874155\n",
      "1\n",
      "4\n",
      "1.916290731874155\n",
      "1.916290731874155\n",
      "1.916290731874155\n",
      "1.916290731874155\n",
      "1.916290731874155\n",
      "1\n",
      "4\n",
      "1.916290731874155\n",
      "1.916290731874155\n",
      "1.916290731874155\n",
      "1.916290731874155\n",
      "1.916290731874155\n",
      "1.916290731874155\n",
      "1\n",
      "4\n",
      "1.916290731874155\n",
      "1.916290731874155\n",
      "1.916290731874155\n",
      "1.916290731874155\n",
      "1.916290731874155\n",
      "[1, 1, 1, 1, 1, 1, 2, 1, 1, 1, 1, 1, 1, 1, 1, 1, 1, 1, 1, 1, 1]\n",
      "[0, 0, 0, 0, 0, 1, 1, 1, 1, 1, 2, 2, 2, 2, 2, 2, 3, 3, 3, 3, 3]\n",
      "[8, 3, 6, 2, 1, 8, 1, 3, 6, 5, 0, 8, 3, 6, 7, 4, 3, 8, 6, 2, 1]\n",
      "[0.07370348968746751, 0.07370348968746751, 0.07370348968746751, 0.07370348968746751, 0.07370348968746751, 0.05323029810761542, 0.05323029810761542, 0.05323029810761542, 0.05323029810761542, 0.05323029810761542, 0.0766516292749662, 0.0766516292749662, 0.0766516292749662, 0.0766516292749662, 0.0766516292749662, 0.0766516292749662, 0.07370348968746751, 0.07370348968746751, 0.07370348968746751, 0.07370348968746751, 0.07370348968746751]\n",
      "4\n",
      "9\n",
      "[[0.         0.4472136  0.4472136  0.4472136  0.         0.\n",
      "  0.4472136  0.         0.4472136 ]\n",
      " [0.         0.4472136  0.         0.4472136  0.         0.4472136\n",
      "  0.4472136  0.         0.4472136 ]\n",
      " [0.40824829 0.         0.         0.40824829 0.40824829 0.\n",
      "  0.40824829 0.40824829 0.40824829]\n",
      " [0.         0.4472136  0.4472136  0.4472136  0.         0.\n",
      "  0.4472136  0.         0.4472136 ]]\n"
     ]
    },
    {
     "name": "stderr",
     "output_type": "stream",
     "text": [
      "\n"
     ]
    }
   ],
   "source": [
    "#print(list(vocab.keys()))\n",
    "#print(len(vocab))\n",
    "print(transform(corpus, vocab).toarray())\n"
   ]
  },
  {
   "cell_type": "code",
   "execution_count": null,
   "metadata": {},
   "outputs": [],
   "source": []
  }
 ],
 "metadata": {
  "kernelspec": {
   "display_name": "Python 3",
   "language": "python",
   "name": "python3"
  },
  "language_info": {
   "codemirror_mode": {
    "name": "ipython",
    "version": 3
   },
   "file_extension": ".py",
   "mimetype": "text/x-python",
   "name": "python",
   "nbconvert_exporter": "python",
   "pygments_lexer": "ipython3",
   "version": "3.6.5"
  }
 },
 "nbformat": 4,
 "nbformat_minor": 2
}
