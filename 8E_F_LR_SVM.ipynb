{
 "cells": [
  {
   "cell_type": "markdown",
   "metadata": {
    "id": "5HExLQrE4ZxR"
   },
   "source": [
    "<h1><font color='blue'> 8E and 8F: Finding the Probability P(Y==1|X)</font></h1>"
   ]
  },
  {
   "cell_type": "markdown",
   "metadata": {
    "id": "4LuKrFzC4ZxV"
   },
   "source": [
    "<h2><font color='Geen'> 8E: Implementing Decision Function of SVM RBF Kernel</font></h2>"
   ]
  },
  {
   "cell_type": "markdown",
   "metadata": {
    "id": "1wES-wWN4ZxX"
   },
   "source": [
    "<font face=' Comic Sans MS' size=3>After we train a kernel SVM model, we will be getting support vectors and their corresponsing coefficients $\\alpha_{i}$\n",
    "\n",
    "Check the documentation for better understanding of these attributes: \n",
    "\n",
    "https://scikit-learn.org/stable/modules/generated/sklearn.svm.SVC.html\n",
    "<img src='https://i.imgur.com/K11msU4.png' width=500>\n",
    "\n",
    "As a part of this assignment you will be implementing the ```decision_function()``` of kernel SVM, here decision_function() means based on the value return by ```decision_function()``` model will classify the data point either as positive or negative\n",
    "\n",
    "Ex 1: In logistic regression After traning the models with the optimal weights $w$ we get, we will find the value $\\frac{1}{1+\\exp(-(wx+b))}$, if this value comes out to be < 0.5 we will mark it as negative class, else its positive class\n",
    "\n",
    "Ex 2: In Linear SVM After traning the models with the optimal weights $w$ we get, we will find the value of $sign(wx+b)$, if this value comes out to be -ve we will mark it as negative class, else its positive class.\n",
    "\n",
    "Similarly in Kernel SVM After traning the models with the coefficients $\\alpha_{i}$ we get, we will find the value of \n",
    "$sign(\\sum_{i=1}^{n}(y_{i}\\alpha_{i}K(x_{i},x_{q})) + intercept)$, here $K(x_{i},x_{q})$ is the RBF kernel. If this value comes out to be -ve we will mark $x_{q}$ as negative class, else its positive class.\n",
    "\n",
    "RBF kernel is defined as: $K(x_{i},x_{q})$ = $exp(-\\gamma ||x_{i} - x_{q}||^2)$\n",
    "\n",
    "For better understanding check this link: https://scikit-learn.org/stable/modules/svm.html#svm-mathematical-formulation\n",
    "</font>"
   ]
  },
  {
   "cell_type": "markdown",
   "metadata": {
    "id": "z830CfMk4Zxa"
   },
   "source": [
    "## Task E"
   ]
  },
  {
   "cell_type": "markdown",
   "metadata": {
    "id": "MuBxHiCQ4Zxc"
   },
   "source": [
    "> 1. Split the data into $X_{train}$(60), $X_{cv}$(20), $X_{test}$(20)\n",
    "\n",
    "> 2. Train $SVC(gamma=0.001, C=100.)$ on the ($X_{train}$, $y_{train}$)\n",
    "\n",
    "> 3. Get the decision boundry values $f_{cv}$ on the $X_{cv}$ data  i.e. ` `$f_{cv}$ ```= decision_function(```$X_{cv}$```)```  <font color='red'>you need to implement this decision_function()</font>"
   ]
  },
  {
   "cell_type": "code",
   "execution_count": 1,
   "metadata": {
    "id": "fCgMNEvI4Zxf"
   },
   "outputs": [],
   "source": [
    "import numpy as np\n",
    "import pandas as pd\n",
    "from sklearn.datasets import make_classification\n",
    "import matplotlib.pyplot as plt\n",
    "import numpy as np\n",
    "from sklearn.svm import SVC\n",
    "from sklearn.model_selection import train_test_split\n",
    "import math"
   ]
  },
  {
   "cell_type": "code",
   "execution_count": 2,
   "metadata": {
    "id": "ANUNIqCe4Zxn"
   },
   "outputs": [],
   "source": [
    "X, y = make_classification(n_samples=5000, n_features=5, n_redundant=2,\n",
    "                           n_classes=2, weights=[0.7], class_sep=0.7, random_state=15)"
   ]
  },
  {
   "cell_type": "markdown",
   "metadata": {
    "id": "tHie1zqH4Zxt"
   },
   "source": [
    "### Pseudo code\n",
    "\n",
    "clf = SVC(gamma=0.001, C=100.)<br>\n",
    "clf.fit(Xtrain, ytrain)\n",
    "\n",
    "<font color='green'>def</font> <font color='blue'>decision_function</font>(Xcv, ...): #use appropriate parameters <br>\n",
    "&nbsp;&nbsp;&nbsp;&nbsp;&nbsp;&nbsp;<font color='green'>for</font> a data point $x_q$ <font color='green'>in</font> Xcv: <br>\n",
    "&nbsp;&nbsp;&nbsp;&nbsp;&nbsp;&nbsp;&nbsp;&nbsp;&nbsp;&nbsp;&nbsp;&nbsp;<font color='grey'>#write code to implement $(\\sum_{i=1}^{\\text{all the support vectors}}(y_{i}\\alpha_{i}K(x_{i},x_{q})) + intercept)$, here the values $y_i$, $\\alpha_{i}$, and $intercept$ can be obtained from the trained model</font><br>\n",
    "   <font color='green'>return</font> <font color='grey'><i># the decision_function output for all the data points in the Xcv</i></font>\n",
    "    \n",
    "fcv = decision_function(Xcv, ...)  <i># based on your requirement you can pass any other parameters </i>\n",
    "\n",
    "<b>Note</b>: Make sure the values you get as fcv, should be equal to outputs of clf.decision_function(Xcv)\n"
   ]
  },
  {
   "cell_type": "code",
   "execution_count": 7,
   "metadata": {
    "id": "h43kDT3M41u5"
   },
   "outputs": [
    {
     "name": "stdout",
     "output_type": "stream",
     "text": [
      "intercept value:  [4.97877929]\n",
      "Sample Output using inbuilt decision function  [-3.1600781   1.27373355 -3.38156398  2.06407708 -3.13163731 -2.70693083\n",
      " -3.52529898 -0.66210411  0.0965253  -4.10121003]\n",
      "Sample output using custom built decision function  [-3.1600781   1.27373355 -3.38156398  2.06407708 -3.13163731 -2.70693083\n",
      " -3.52529898 -0.66210411  0.0965253  -4.10121003]\n"
     ]
    }
   ],
   "source": [
    "X_train, X_test, Y_train, Y_test = train_test_split(X, y, stratify=y, test_size=0.2)\n",
    "X_train, X_cv, Y_train, Y_cv = train_test_split(X_train, Y_train, stratify=Y_train, test_size=0.2)\n",
    "clf = SVC(gamma=0.001, C=100.)\n",
    "clf.fit(X_train,Y_train)\n",
    "coefficient_values = clf.dual_coef_[0]\n",
    "support_vectors = clf.support_vectors_\n",
    "intercept = clf.intercept_\n",
    "print('intercept value: ', intercept)\n",
    "\n",
    "svm_decision_inbuilt_result_x_cv = clf.decision_function(X_cv)\n",
    "print('Sample Output using inbuilt decision function ', svm_decision_inbuilt_result_x_cv[:10] )\n",
    "custom_decision_function_result_x_cv = decision_function(X_cv)\n",
    "print('Sample output using custom built decision function ', custom_decision_function_result_x_cv[:10])"
   ]
  },
  {
   "cell_type": "code",
   "execution_count": 6,
   "metadata": {},
   "outputs": [],
   "source": [
    "def decision_function(Xcv):\n",
    "    sample_output_rbf = 0\n",
    "    y_predicted = []\n",
    "    gamma = clf._gamma\n",
    "  \n",
    "    for x_q in Xcv:\n",
    "        kernel_sum = 0\n",
    "        for i in range(len(support_vectors)):\n",
    "            squared_distance = (np.linalg.norm(support_vectors[i] - x_q)**2)\n",
    "            rbf_k = np.exp(-gamma * (squared_distance))\n",
    "            kernel_sum += coefficient_values[i]*rbf_k    \n",
    "        sample_output_rbf = kernel_sum + intercept\n",
    "        y_predicted.append(sample_output_rbf[0])\n",
    "    return np.array(y_predicted)    "
   ]
  },
  {
   "cell_type": "markdown",
   "metadata": {
    "id": "c0bKCboN4Zxu"
   },
   "source": [
    "<h2><font color='Geen'> 8F: Implementing Platt Scaling to find P(Y==1|X)</font></h2>"
   ]
  },
  {
   "cell_type": "markdown",
   "metadata": {
    "id": "nMn7OEN94Zxw"
   },
   "source": [
    "Check this <a href='https://drive.google.com/open?id=133odBinMOIVb_rh_GQxxsyMRyW-Zts7a'>PDF</a>\n",
    "<img src='https://i.imgur.com/CAMnVnh.png'>\n"
   ]
  },
  {
   "cell_type": "markdown",
   "metadata": {
    "id": "e0n5EFkx4Zxz"
   },
   "source": [
    "## TASK F"
   ]
  },
  {
   "cell_type": "markdown",
   "metadata": {
    "id": "t0HOqVJq4Zx1"
   },
   "source": [
    "\n",
    "> 4. Apply SGD algorithm with ($f_{cv}$, $y_{cv}$) and find the weight $W$ intercept $b$ ```Note: here our data is of one dimensional so we will have a one dimensional weight vector i.e W.shape (1,)``` \n",
    "\n",
    "> Note1: Don't forget to change the values of $y_{cv}$ as mentioned in the above image. you will calculate y+, y- based on data points in train data\n",
    "\n",
    "> Note2: the Sklearn's SGD algorithm doesn't support the real valued outputs, you need to use the code that was done in the `'Logistic Regression with SGD and L2'` Assignment after modifying loss function, and use same parameters that used in that assignment.\n",
    "<img src='https://i.imgur.com/zKYE9Oc.png'>\n",
    "if Y[i] is 1, it will be replaced with y+ value else it will replaced with y- value\n",
    "\n",
    "> 5. For a given data point from $X_{test}$, $P(Y=1|X) = \\frac{1}{1+exp(-(W*f_{test}+ b))}$ where ` `$f_{test}$ ```= decision_function(```$X_{test}$```)```, W and b will be learned as metioned in the above step"
   ]
  },
  {
   "cell_type": "code",
   "execution_count": 8,
   "metadata": {},
   "outputs": [],
   "source": [
    "def initialize_weights(dim):\n",
    "    w = np.zeros_like(dim)\n",
    "    b = 0\n",
    "    return w,b"
   ]
  },
  {
   "cell_type": "code",
   "execution_count": 9,
   "metadata": {},
   "outputs": [],
   "source": [
    "def sigmoid(z):\n",
    "    return 1.0/(1 + np.exp(-z))"
   ]
  },
  {
   "cell_type": "code",
   "execution_count": 10,
   "metadata": {},
   "outputs": [],
   "source": [
    "def logloss(y_true, y_pred):\n",
    "    \n",
    "    len_y_true = len(y_true)\n",
    "    positive_points = np.count_nonzero(y_true == 1)\n",
    "    negative_points = np.count_nonzero(y_true == 0)\n",
    "    \n",
    "    y_plus = (positive_points+1)/(negative_points+2)\n",
    "    y_minus = 1/(negative_points+2)\n",
    "    \n",
    "    sum_of_loss = 0\n",
    "    \n",
    "    for i in range(0, len_y_true):\n",
    "        if (y_true[i] == 1):\n",
    "            sum_of_loss += ((y_plus * np.log10(y_pred[i])) + ((1- y_plus) * np.log10(1-y_pred[i])))\n",
    "        else:\n",
    "            sum_of_loss += ((y_minus * np.log10(y_pred[i])) + ((1 - y_minus) * np.log10(1-y_pred[i])))\n",
    "        \n",
    "    loss = (-1/len_y_true) * sum_of_loss  \n",
    "    return loss"
   ]
  },
  {
   "cell_type": "code",
   "execution_count": 11,
   "metadata": {},
   "outputs": [],
   "source": [
    "def gradient_dw(x,y,w,b,alpha,N):\n",
    "    z = np.dot(w, x) + b\n",
    "    dw = x*(y - sigmoid(z)) - ((alpha)*(1/N) * w)\n",
    "    return dw"
   ]
  },
  {
   "cell_type": "code",
   "execution_count": 12,
   "metadata": {},
   "outputs": [],
   "source": [
    "  \n",
    "def gradient_db(x,y,w,b):\n",
    "    z = np.dot(w, x) + b\n",
    "    db = y - sigmoid(z)\n",
    "\n",
    "    return db"
   ]
  },
  {
   "cell_type": "code",
   "execution_count": 13,
   "metadata": {},
   "outputs": [],
   "source": [
    "def train(X_train, y_train, X_test, y_test, epochs, alpha, eta0, tol=1e-3):\n",
    "    w, b = initialize_weights(X_train[0])\n",
    "    train_loss = []\n",
    "    test_loss = []\n",
    "    N = len(X_train)\n",
    "    loss_threshold = 0.0001\n",
    "    for epoch in range(epochs):\n",
    "        for i in range(N - 1):\n",
    "            delta_weights = gradient_dw(X_train[i], y_train[i], w, b, alpha, len(X_train))\n",
    "            delta_bias = gradient_db(X_train[i], y_train[i], w, b)\n",
    "            w = w + eta0 * delta_weights\n",
    "            b = b + eta0 * delta_bias\n",
    "\n",
    "        y_prediction_train = [sigmoid(np.dot(w, x_i) + b) for x_i in X_train]\n",
    "        train_loss.append(logloss(y_train, y_prediction_train))\n",
    "        y_prediction_test = [sigmoid(np.dot(w, x_i) + b) for x_i in X_test]\n",
    "        test_loss.append(logloss(y_test, y_prediction_test))\n",
    "        \n",
    "        print(\n",
    "            f\"For EPOCH No : {epoch} Train Loss is : {logloss(y_train, y_prediction_train)} and Test Loss is : {logloss(y_test, y_prediction_test)}\"\n",
    "        )\n",
    "\n",
    "      \n",
    "\n",
    "    return w, b, train_loss, test_loss"
   ]
  },
  {
   "cell_type": "code",
   "execution_count": 14,
   "metadata": {},
   "outputs": [
    {
     "name": "stdout",
     "output_type": "stream",
     "text": [
      "For EPOCH No : 0 Train Loss is : 0.27236316193006377 and Test Loss is : [0.29923159 0.29934197 0.30130578 0.30199316 0.29130106]\n",
      "For EPOCH No : 1 Train Loss is : 0.2506189098774082 and Test Loss is : [0.29829924 0.29862947 0.30170201 0.30304284 0.28328607]\n",
      "For EPOCH No : 2 Train Loss is : 0.2340091119966072 and Test Loss is : [0.2979968  0.29861593 0.3021874  0.30414539 0.27662907]\n",
      "For EPOCH No : 3 Train Loss is : 0.22118875140192193 and Test Loss is : [0.29815084 0.29910012 0.3027382  0.30527776 0.27104635]\n",
      "For EPOCH No : 4 Train Loss is : 0.211179551986568 and Test Loss is : [0.29863637 0.29993861 0.30333672 0.30642445 0.26631794]\n",
      "For EPOCH No : 5 Train Loss is : 0.20327786347954666 and Test Loss is : [0.29936362 0.30102964 0.30396986 0.30757509 0.262275  ]\n",
      "For EPOCH No : 6 Train Loss is : 0.19697675012784463 and Test Loss is : [0.30026791 0.30230074 0.30462789 0.30872274 0.25878785]\n",
      "For EPOCH No : 7 Train Loss is : 0.19190790401046443 and Test Loss is : [0.30130216 0.30369991 0.30530356 0.30986279 0.25575629]\n",
      "For EPOCH No : 8 Train Loss is : 0.18780056527079508 and Test Loss is : [0.3024318  0.30518947 0.30599141 0.31099219 0.25310219]\n",
      "For EPOCH No : 9 Train Loss is : 0.1844530516717418 and Test Loss is : [0.30363117 0.30674182 0.30668732 0.31210895 0.25076397]\n",
      "For EPOCH No : 10 Train Loss is : 0.18171310530191265 and Test Loss is : [0.30488099 0.30833659 0.30738813 0.3132118  0.2486926 ]\n",
      "For EPOCH No : 11 Train Loss is : 0.1794642644381363 and Test Loss is : [0.30616667 0.30995858 0.30809143 0.3143     0.24684864]\n",
      "For EPOCH No : 12 Train Loss is : 0.17761632848907138 and Test Loss is : [0.30747707 0.31159639 0.30879535 0.31537315 0.24520001]\n",
      "For EPOCH No : 13 Train Loss is : 0.17609861184394895 and Test Loss is : [0.30880359 0.3132414  0.30949845 0.3164311  0.24372038]\n",
      "For EPOCH No : 14 Train Loss is : 0.17485511272003085 and Test Loss is : [0.31013959 0.31488707 0.31019961 0.31747385 0.24238797]\n",
      "For EPOCH No : 15 Train Loss is : 0.17384101039092317 and Test Loss is : [0.31147989 0.31652843 0.31089795 0.31850155 0.24118456]\n",
      "For EPOCH No : 16 Train Loss is : 0.17302009439769558 and Test Loss is : [0.31282045 0.31816169 0.3115928  0.31951442 0.24009486]\n",
      "For EPOCH No : 17 Train Loss is : 0.17236285538702745 and Test Loss is : [0.31415807 0.31978396 0.31228362 0.32051272 0.23910588]\n",
      "For EPOCH No : 18 Train Loss is : 0.1718450512172037 and Test Loss is : [0.31549028 0.32139307 0.31297002 0.32149678 0.23820655]\n",
      "For EPOCH No : 19 Train Loss is : 0.17144661842507927 and Test Loss is : [0.31681512 0.32298737 0.31365168 0.32246691 0.23738736]\n",
      "For EPOCH No : 20 Train Loss is : 0.17115083746597048 and Test Loss is : [0.31813106 0.32456565 0.31432836 0.32342348 0.23664011]\n",
      "For EPOCH No : 21 Train Loss is : 0.17094368642661345 and Test Loss is : [0.3194369  0.32612701 0.31499991 0.32436682 0.23595767]\n",
      "For EPOCH No : 22 Train Loss is : 0.1708133361432844 and Test Loss is : [0.32073172 0.32767082 0.31566618 0.3252973  0.23533382]\n",
      "For EPOCH No : 23 Train Loss is : 0.17074975243969406 and Test Loss is : [0.32201483 0.32919667 0.31632711 0.32621525 0.23476311]\n",
      "For EPOCH No : 24 Train Loss is : 0.17074438025700217 and Test Loss is : [0.32328567 0.3307043  0.31698263 0.32712102 0.23424075]\n",
      "For EPOCH No : 25 Train Loss is : 0.17078989093330232 and Test Loss is : [0.32454388 0.33219356 0.31763273 0.32801495 0.23376249]\n",
      "For EPOCH No : 26 Train Loss is : 0.17087997857941123 and Test Loss is : [0.32578916 0.33366443 0.31827739 0.32889736 0.23332457]\n",
      "For EPOCH No : 27 Train Loss is : 0.17100919492153913 and Test Loss is : [0.32702134 0.33511696 0.31891663 0.32976857 0.23292365]\n",
      "For EPOCH No : 28 Train Loss is : 0.17117281450399435 and Test Loss is : [0.3282403  0.33655125 0.31955047 0.33062888 0.23255671]\n",
      "For EPOCH No : 29 Train Loss is : 0.1713667240200611 and Test Loss is : [0.32944601 0.33796747 0.32017894 0.33147858 0.23222108]\n",
      "For EPOCH No : 30 Train Loss is : 0.17158733094450385 and Test Loss is : [0.33063847 0.33936581 0.32080211 0.33231798 0.23191435]\n",
      "For EPOCH No : 31 Train Loss is : 0.17183148770285545 and Test Loss is : [0.33181771 0.34074651 0.32142    0.33314733 0.23163432]\n",
      "For EPOCH No : 32 Train Loss is : 0.17209642842087874 and Test Loss is : [0.33298383 0.34210981 0.32203269 0.3339669  0.23137905]\n",
      "For EPOCH No : 33 Train Loss is : 0.17237971591734158 and Test Loss is : [0.33413691 0.34345599 0.32264024 0.33477695 0.23114673]\n",
      "For EPOCH No : 34 Train Loss is : 0.17267919708174087 and Test Loss is : [0.33527709 0.34478532 0.3232427  0.33557773 0.23093575]\n",
      "For EPOCH No : 35 Train Loss is : 0.1729929651504966 and Test Loss is : [0.33640451 0.3460981  0.32384015 0.33636947 0.23074463]\n",
      "For EPOCH No : 36 Train Loss is : 0.17331932768599276 and Test Loss is : [0.33751931 0.34739461 0.32443265 0.33715239 0.23057202]\n",
      "For EPOCH No : 37 Train Loss is : 0.17365677929167686 and Test Loss is : [0.33862168 0.34867516 0.32502028 0.33792672 0.23041669]\n",
      "For EPOCH No : 38 Train Loss is : 0.17400397827751576 and Test Loss is : [0.33971178 0.34994004 0.32560311 0.33869266 0.2302775 ]\n",
      "For EPOCH No : 39 Train Loss is : 0.17435972663418717 and Test Loss is : [0.34078978 0.35118955 0.3261812  0.33945042 0.23015342]\n",
      "For EPOCH No : 40 Train Loss is : 0.17472295278961716 and Test Loss is : [0.34185589 0.35242399 0.32675463 0.34020019 0.23004349]\n",
      "For EPOCH No : 41 Train Loss is : 0.17509269671412495 and Test Loss is : [0.34291027 0.35364366 0.32732347 0.34094216 0.22994683]\n",
      "For EPOCH No : 42 Train Loss is : 0.17546809701524946 and Test Loss is : [0.34395311 0.35484883 0.3278878  0.34167651 0.22986263]\n",
      "For EPOCH No : 43 Train Loss is : 0.17584837972404618 and Test Loss is : [0.34498462 0.3560398  0.32844767 0.34240342 0.22979014]\n",
      "For EPOCH No : 44 Train Loss is : 0.17623284852413576 and Test Loss is : [0.34600497 0.35721684 0.32900316 0.34312305 0.22972866]\n",
      "For EPOCH No : 45 Train Loss is : 0.17662087621527825 and Test Loss is : [0.34701435 0.35838024 0.32955434 0.34383556 0.22967754]\n",
      "For EPOCH No : 46 Train Loss is : 0.17701189723653407 and Test Loss is : [0.34801295 0.35953025 0.33010128 0.34454111 0.2296362 ]\n",
      "For EPOCH No : 47 Train Loss is : 0.1774054011015425 and Test Loss is : [0.34900095 0.36066715 0.33064403 0.34523985 0.22960406]\n",
      "For EPOCH No : 48 Train Loss is : 0.17780092662117392 and Test Loss is : [0.34997854 0.3617912  0.33118267 0.34593192 0.22958062]\n",
      "For EPOCH No : 49 Train Loss is : 0.17819805680772166 and Test Loss is : [0.3509459  0.36290263 0.33171727 0.34661747 0.22956538]\n",
      "w_coef  1.0997189432449603\n",
      "intercept b  -0.07567339899294767\n"
     ]
    }
   ],
   "source": [
    "alpha=0.0001\n",
    "eta0=0.0001\n",
    "epochs=50\n",
    "w, b, train_loss, test_loss = train(custom_decision_function_result_x_cv, Y_cv, X_test, Y_test, epochs, alpha, eta0)\n",
    "print('w_coef ', w)\n",
    "print('intercept b ', b)"
   ]
  },
  {
   "cell_type": "markdown",
   "metadata": {
    "id": "oTY7z2bd4Zx2"
   },
   "source": [
    "__Note: in the above algorithm, the steps 2, 4 might need hyper parameter tuning, To reduce the complexity of the assignment we are excluding the hyerparameter tuning part, but intrested students can try that__"
   ]
  },
  {
   "cell_type": "code",
   "execution_count": 55,
   "metadata": {},
   "outputs": [
    {
     "data": {
      "image/png": "[encoded data removed]",
      "text/plain": [
       "<Figure size 432x288 with 1 Axes>"
      ]
     },
     "metadata": {},
     "output_type": "display_data"
    }
   ],
   "source": [
    "x = np.array([i for i in range(0, 50)])\n",
    "\n",
    "cv_log_loss_arr = np.array(train_loss)\n",
    "\n",
    "plt.plot(x, cv_log_loss_arr, label = 'CV log loss')\n",
    "\n",
    "plt.legend(loc=\"upper right\")\n",
    "plt.grid()\n",
    "\n",
    "plt.xlabel('Number of Epoch')\n",
    "plt.ylabel('Log Loss ')\n",
    "\n",
    "plt.title('Loss vs Epoch ')\n",
    "plt.show()"
   ]
  },
  {
   "cell_type": "markdown",
   "metadata": {
    "id": "CM3odN1Z4Zx3"
   },
   "source": [
    "\n",
    "If any one wants to try other calibration algorithm istonic regression also please check these tutorials\n",
    "\n",
    "1. http://fa.bianp.net/blog/tag/scikit-learn.html#fn:1\n",
    "\n",
    "2. https://drive.google.com/open?id=1MzmA7QaP58RDzocB0RBmRiWfl7Co_VJ7\n",
    "\n",
    "3. https://drive.google.com/open?id=133odBinMOIVb_rh_GQxxsyMRyW-Zts7a\n",
    "\n",
    "4. https://stat.fandom.com/wiki/Isotonic_regression#Pool_Adjacent_Violators_Algorithm\n"
   ]
  }
 ],
 "metadata": {
  "colab": {
   "collapsed_sections": [],
   "name": "8E&F_LR_SVM.ipynb",
   "provenance": []
  },
  "kernelspec": {
   "display_name": "Python 3",
   "language": "python",
   "name": "python3"
  },
  "language_info": {
   "codemirror_mode": {
    "name": "ipython",
    "version": 3
   },
   "file_extension": ".py",
   "mimetype": "text/x-python",
   "name": "python",
   "nbconvert_exporter": "python",
   "pygments_lexer": "ipython3",
   "version": "3.6.5"
  }
 },
 "nbformat": 4,
 "nbformat_minor": 1
}
