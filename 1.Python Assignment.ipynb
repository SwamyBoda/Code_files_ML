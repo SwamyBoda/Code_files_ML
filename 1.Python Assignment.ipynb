{
 "cells": [
  {
   "cell_type": "markdown",
   "metadata": {
    "colab_type": "text",
    "id": "l0ZzOlyxB-kf"
   },
   "source": [
    "<h1>Python: without numpy or sklearn </h1>"
   ]
  },
  {
   "cell_type": "markdown",
   "metadata": {
    "colab_type": "text",
    "id": "C0xO8JV9B-ki"
   },
   "source": [
    "<h3> Q1: Given two matrices please print the product of those two matrices </h3>\n",
    "<pre>\n",
    "\n",
    "Ex 1: A   = [[1 3 4]\n",
    "             [2 5 7]\n",
    "             [5 9 6]]\n",
    "      B   = [[1 0 0]\n",
    "             [0 1 0]\n",
    "             [0 0 1]]\n",
    "      A*B = [[1 3 4]\n",
    "             [2 5 7]\n",
    "             [5 9 6]]\n",
    "\n",
    "     \n",
    "Ex 2: A   = [[1 2]\n",
    "             [3 4]]\n",
    "      B   = [[1 2 3 4 5]\n",
    "             [5 6 7 8 9]]\n",
    "      A*B = [[11 14 17 20 23]\n",
    "             [23 30 36 42 51]]\n",
    "             \n",
    "Ex 3: A   = [[1 2]\n",
    "             [3 4]]\n",
    "      B   = [[1 4]\n",
    "             [5 6]\n",
    "             [7 8]\n",
    "             [9 6]]\n",
    "      A*B =Not possible\n",
    "</pre>"
   ]
  },
  {
   "cell_type": "code",
   "execution_count": 8,
   "metadata": {
    "colab": {},
    "colab_type": "code",
    "id": "rnssAfpgB-kj"
   },
   "outputs": [
    {
     "name": "stdout",
     "output_type": "stream",
     "text": [
      "\n",
      "Use coma to seperate values and press S to exit\n",
      "\n",
      " please enter values of row 1 of Matrix X : 1,1\n",
      "\n",
      " please enter values of row 2 of Matrix X : 2,2\n",
      "\n",
      " please enter values of row 3 of Matrix X : S\n",
      "\n",
      "Use coma to seperate values and press S to exit\n",
      "\n",
      " please enter values of row 1 of Matrix Y : 1,1\n",
      "\n",
      " please enter values of row 2 of Matrix Y : 2,2\n",
      "\n",
      " please enter values of row 3 of Matrix Y : S\n",
      "\n",
      "output of the matrix is\n",
      "***********************\n",
      "[3, 3]\n",
      "[6, 6]\n"
     ]
    }
   ],
   "source": [
    "def InputMatrix(name):\n",
    "    X = []\n",
    "    i = 0\n",
    "    print(\"\\nUse coma to seperate values and press S to exit\")\n",
    "    while True:\n",
    "        i += 1\n",
    "        row = input('\\n please enter values of row %s of Matrix %s : ' %(i, name))\n",
    "        if row == 'S':\n",
    "            break\n",
    "        else:\n",
    "            strList = row.split(',')\n",
    "            X.append(list(map(int, strList)))\n",
    "    return X\n",
    "Result=[]\n",
    "\n",
    "A = InputMatrix('X')\n",
    "B = InputMatrix('Y')\n",
    "\n",
    "for m in range(len(A)):\n",
    "    l=[]\n",
    "    for n in range(len(B[0])):\n",
    "        l.append(0)\n",
    "    Result.append(l)\n",
    "try:\n",
    "    if(len(A)!=len(B[0])):\n",
    "        raise ValueError(\"Exception\")\n",
    "    for i in range(len(A)):\n",
    "   # iterate through columns of Y\n",
    "        for j in range(len(B[0])):\n",
    "       # iterate through rows of Y\n",
    "            for k in range(len(B)):\n",
    "                Result[i][j] += A[i][k] * B[k][j]\n",
    "except ValueError:\n",
    "    print(\"\\nMatrix multiplication is not possible\")\n",
    "                \n",
    "if(len(A) == len(B[0])):\n",
    "    print(\"\\noutput of the matrix is\")\n",
    "    print(\"***********************\")\n",
    "    for r in Result:\n",
    "        print(r)"
   ]
  },
  {
   "cell_type": "markdown",
   "metadata": {
    "colab_type": "text",
    "id": "at4VwLggB-kn"
   },
   "source": [
    "<h3> Q2: Select a number randomly with probability proportional to its magnitude from the given array of n elements</h3>\n",
    "\n",
    "consider an experiment, selecting an element from the list A randomly with probability proportional to its magnitude.\n",
    "assume we are doing the same experiment for 100 times with replacement, in each experiment you will print a number that is selected randomly from A.\n",
    "\n",
    "<pre>\n",
    "Ex 1: A = [0 5 27 6 13 28 100 45 10 79]\n",
    "let f(x) denote the number of times x getting selected in 100 experiments.\n",
    "f(100) > f(79) > f(45) > f(28) > f(27) > f(13) > f(10) > f(6) > f(5) > f(0)\n",
    "</pre>"
   ]
  },
  {
   "cell_type": "code",
   "execution_count": 1,
   "metadata": {
    "colab": {},
    "colab_type": "code",
    "id": "B6S2dpBhB-kn"
   },
   "outputs": [
    {
     "name": "stdout",
     "output_type": "stream",
     "text": [
      "[0, 5, 27, 6, 13, 28, 100, 45, 10, 79] 313\n",
      "100\n",
      "79\n",
      "100\n",
      "100\n",
      "45\n",
      "79\n",
      "100\n",
      "100\n",
      "45\n",
      "10\n",
      "100\n",
      "28\n",
      "27\n",
      "28\n",
      "100\n",
      "100\n",
      "13\n",
      "79\n",
      "79\n",
      "45\n",
      "100\n",
      "100\n",
      "100\n",
      "79\n",
      "100\n",
      "45\n",
      "28\n",
      "79\n",
      "79\n",
      "10\n",
      "79\n",
      "79\n",
      "10\n",
      "100\n",
      "6\n",
      "27\n",
      "10\n",
      "100\n",
      "28\n",
      "45\n",
      "27\n",
      "79\n",
      "27\n",
      "79\n",
      "28\n",
      "10\n",
      "100\n",
      "45\n",
      "13\n",
      "100\n",
      "28\n",
      "27\n",
      "45\n",
      "28\n",
      "79\n",
      "45\n",
      "79\n",
      "27\n",
      "28\n",
      "45\n",
      "100\n",
      "45\n",
      "79\n",
      "79\n",
      "100\n",
      "79\n",
      "28\n",
      "100\n",
      "100\n",
      "100\n",
      "28\n",
      "45\n",
      "28\n",
      "45\n",
      "79\n",
      "27\n",
      "100\n",
      "79\n",
      "79\n",
      "79\n",
      "79\n",
      "79\n",
      "79\n",
      "28\n",
      "45\n",
      "28\n",
      "79\n",
      "79\n",
      "45\n",
      "79\n",
      "79\n",
      "79\n",
      "79\n",
      "45\n",
      "79\n",
      "79\n",
      "79\n",
      "45\n",
      "27\n",
      "{100: 22, 79: 32, 45: 16, 10: 5, 28: 13, 27: 8, 13: 2, 6: 1}\n"
     ]
    }
   ],
   "source": [
    "from random import uniform\n",
    "import random\n",
    "# write your python code here\n",
    "# you can take the above example as sample input for your program to test\n",
    "# it should work for any general input try not to hard code for only given input examples\n",
    "#Reference: https://stackoverflow.com/questions/57892112/select-a-number-randomly-with-probability-proportional-to-its-magnitude-from-the\n",
    "\n",
    "\n",
    "# you can free to change all these codes/structure\n",
    "def pick_a_number_from_list(A):\n",
    "    sum=0\n",
    "    total_sum=[]\n",
    "    for i in range(len(A)):\n",
    "        sum = sum + A[i]\n",
    "        total_sum.append(sum)\n",
    "    list1=[]\n",
    "    \n",
    "    r = int(random.uniform(0,sum))\n",
    "    number=0\n",
    "    for index in range(len(total_sum)):\n",
    "        if(r>=total_sum[index] and r<total_sum[index+1]):\n",
    "            print(A[index+1])\n",
    "            return A[index+1]\n",
    "\n",
    "def sampling_based_on_magnitued():\n",
    "    A = [0,5,27,6,13,28,100,45,10,79]\n",
    "    v = dict()\n",
    "    print(A,sum(A))\n",
    "    for i in range(1,100):\n",
    "        number = pick_a_number_from_list(A)\n",
    "        #print(number)\n",
    "        if number in v:\n",
    "            v[number] += 1\n",
    "        else:\n",
    "            v[number] = 1\n",
    "    print(v)\n",
    "    \n",
    "sampling_based_on_magnitued()"
   ]
  },
  {
   "cell_type": "markdown",
   "metadata": {
    "colab_type": "text",
    "id": "D1xQy2WWB-kq"
   },
   "source": [
    "<h3> Q3: Replace the digits in the string with #</h3>\n",
    "\n",
    "consider a string that will have digits in that, we need to remove all the not digits and replace the digits with #\n",
    "<pre>\n",
    "Ex 1: A = 234                Output: ###\n",
    "Ex 2: A = a2b3c4             Output: ###\n",
    "Ex 3: A = abc                Output:   (empty string)\n",
    "Ex 5: A = #2a$#b%c%561#      Output: ####\n",
    "</pre>"
   ]
  },
  {
   "cell_type": "code",
   "execution_count": 4,
   "metadata": {
    "colab": {},
    "colab_type": "code",
    "id": "fxczi2jzB-kr"
   },
   "outputs": [
    {
     "name": "stdout",
     "output_type": "stream",
     "text": [
      "\n",
      " please enter the stringa2b3c4\n",
      "Input you entered : a2b3c4\n",
      "Output String : ###\n"
     ]
    }
   ],
   "source": [
    "import re\n",
    "def replace_digits(input_string): \n",
    "    input_string = re.sub(\"[^A-Za-z0-9]\",\"\",input_string)\n",
    "    for ele in input_string: \n",
    "        if ele.isdigit(): \n",
    "            input_string = input_string.replace(ele, \"#\")\n",
    "        else:\n",
    "            input_string = input_string.replace(ele,\"\") \n",
    "    return(input_string) \n",
    "\n",
    "input_string = input('\\n please enter the string')\n",
    "print(\"Input you entered : \" + str(input_string))  \n",
    "output = replace_digits(input_string)\n",
    "print(\"Output String : \" + str(output))"
   ]
  },
  {
   "cell_type": "markdown",
   "metadata": {
    "colab_type": "text",
    "id": "j7h0Ywg7B-kw"
   },
   "source": [
    "<h3> Q4: Students marks dashboard</h3>\n",
    "\n",
    "consider the marks list of class students given two lists <br>\n",
    "Students = ['student1','student2','student3','student4','student5','student6','student7','student8','student9','student10'] <br>\n",
    "Marks = [45, 78, 12, 14, 48, 43, 45, 98, 35, 80] <br>\n",
    "from the above two lists the Student[0] got Marks[0],  Student[1] got Marks[1] and so on <br><br>\n",
    "your task is to print the name of students\n",
    "<strong>a. Who got top 5 ranks, in the descending order of marks</strong> <br>\n",
    "<strong>b. Who got least 5 ranks, in the increasing order of marks</strong><br>\n",
    "<strong>d. Who got marks between  &gt;25th percentile &lt;75th percentile, in the increasing order of marks</strong>\n",
    "\n",
    "<pre>\n",
    "Ex 1: \n",
    "Students=['student1','student2','student3','student4','student5','student6','student7','student8','student9','student10'] \n",
    "Marks = [45, 78, 12, 14, 48, 43, 47, 98, 35, 80]\n",
    "a. \n",
    "student8  98\n",
    "student10 80\n",
    "student2  78\n",
    "student5  48\n",
    "student7  47\n",
    "b.\n",
    "student3 12\n",
    "student4 14\n",
    "student9 35\n",
    "student6 43\n",
    "student1 45\n",
    "c.\n",
    "student9 35\n",
    "student6 43\n",
    "student1 45\n",
    "student7 47\n",
    "student5 48\n",
    "</pre>"
   ]
  },
  {
   "cell_type": "code",
   "execution_count": 1,
   "metadata": {
    "colab": {},
    "colab_type": "code",
    "id": "cxPJgItsB-kx"
   },
   "outputs": [
    {
     "name": "stdout",
     "output_type": "stream",
     "text": [
      "Students with top five ranks are as follows\n",
      "student8 : 98\n",
      "student9 : 80\n",
      "student2 : 78\n",
      "student4 : 48\n",
      "student5 : 47\n",
      "Students with least five ranks are as follows\n",
      "student3 : 12\n",
      "student3 : 14\n",
      "student7 : 35\n",
      "student4 : 43\n",
      "student1 : 45\n",
      "Students between 25th and 75th percentile are as follows\n",
      "student9 : 35\n",
      "student6 : 43\n",
      "student1 : 45\n",
      "student7 : 47\n",
      "student5 : 48\n"
     ]
    }
   ],
   "source": [
    "S=['student1','student2','student3','student4','student5','student6','student7','student8','student9','student10'] \n",
    "marks = [45, 78, 12, 14, 48, 43, 47, 98, 35, 80]\n",
    "max5=[]\n",
    "min5=[]\n",
    "m1=max(marks)\n",
    "m2=min(marks)\n",
    "d=m1-m2\n",
    "def find_max(marks):\n",
    "    print(\"Students with top five ranks are as follows\")\n",
    "    while len(max5) <= 4:\n",
    "        max5.append(max(marks))\n",
    "        print(S[marks.index(max(marks))], ':', max(marks))\n",
    "        marks=[i for i in marks if i not in max5]\n",
    "    \n",
    "\n",
    "def find_min(marks):\n",
    "    print(\"Students with least five ranks are as follows\")\n",
    "    while len(min5) <= 4:\n",
    "        min5.append(min(marks))\n",
    "        print(S[marks.index(min(marks))], ':', min(marks))\n",
    "        marks=[i for i in marks if i not in min5]\n",
    "        \n",
    "def find_percentile(marks,d):\n",
    "    print(\"Students between 25th and 75th percentile are as follows\")\n",
    "    pre_25 = d*0.25\n",
    "    pre_75 = d*0.75\n",
    "    for i in sorted(marks):\n",
    "        if pre_25 < i < pre_75 :\n",
    "                print(S[marks.index(i)], ':', i)\n",
    "\n",
    "find_max(marks)\n",
    "find_min(marks)\n",
    "find_percentile(marks,d)\n"
   ]
  },
  {
   "cell_type": "markdown",
   "metadata": {
    "colab_type": "text",
    "id": "qha0OhQHB-k1"
   },
   "source": [
    "<h3> Q5: Find the closest points</h3>\n",
    "\n",
    "consider you have given n data points in the form of list of tuples like S=[(x1,y1),(x2,y2),(x3,y3),(x4,y4),(x5,y5),..,(xn,yn)] and a point P=(p,q) <br> your task is to find 5 closest points(based on cosine distance) in S from P\n",
    "<br>cosine distance between two points (x,y) and (p,q) is defind as $cos^{-1}(\\frac{(x\\cdot p+y\\cdot q)}{\\sqrt(x^2+y^2)\\cdot\\sqrt(p^2+q^2)})$\n",
    "<pre>\n",
    "Ex:\n",
    "\n",
    "S= [(1,2),(3,4),(-1,1),(6,-7),(0, 6),(-5,-8),(-1,-1)(6,0),(1,-1)]\n",
    "P= (3,-4)\n",
    "<img src='https://i.imgur.com/vIFPOcG.jpg', width=300>\n",
    "Output:\n",
    "(6,-7)\n",
    "(1,-1)\n",
    "(6,0)\n",
    "(-5,-8)\n",
    "(-1,-1)\n",
    "</pre>"
   ]
  },
  {
   "cell_type": "code",
   "execution_count": 2,
   "metadata": {
    "colab": {},
    "colab_type": "code",
    "id": "wA5I1g-2B-k2"
   },
   "outputs": [
    {
     "name": "stdout",
     "output_type": "stream",
     "text": [
      "(6, -7)\n",
      "(1, -1)\n",
      "(6, 0)\n",
      "(-5, -8)\n",
      "(-1, -1)\n"
     ]
    }
   ],
   "source": [
    "import math\n",
    "\n",
    "# write your python code here\n",
    "# you can take the above example as sample input for your program to test\n",
    "# it should work for any general input try not to hard code for only given input examples\n",
    "# you can free to change all these codes/structure\n",
    "\n",
    "\n",
    "# here S is list of tuples and P is a tuple ot len=2\n",
    "def closest_points_to_p(S, P):\n",
    "    # write your code here\n",
    "    cosine_dist = []\n",
    "    for a, b in S:\n",
    "        num = a * P[0] + b * P[1]\n",
    "        den = math.sqrt(a ** 2 + b ** 2) * math.sqrt(P[0] ** 2 + P[1] ** 2)\n",
    "        cosine_dist.append(math.acos(num/den))\n",
    "    X = cosine_dist\n",
    "    Y = [S for S in sorted(zip(S,X), key=lambda i:i[1])]\n",
    "    k = Y[:5] \n",
    "    for i, j in k:\n",
    "        print(i)\n",
    "    #return closest_points_to_p  # its list of tuples\n",
    "\n",
    "S = [(1, 2), (3, 4), (-1, 1), (6, -7), (0, 6), (-5, -8), (-1, -1), (6, 0), (1, -1)]\n",
    "P= (3,-4)\n",
    "points = closest_points_to_p(S, P)\n",
    "#print() #print the returned values"
   ]
  },
  {
   "cell_type": "markdown",
   "metadata": {
    "colab_type": "text",
    "id": "-g11jeAiB-k5"
   },
   "source": [
    "<h3> Q6: Find Which line separates oranges and apples</h3>\n",
    "consider you have given two set of data points in the form of list of tuples like \n",
    "<pre>\n",
    "Red =[(R11,R12),(R21,R22),(R31,R32),(R41,R42),(R51,R52),..,(Rn1,Rn2)]\n",
    "Blue=[(B11,B12),(B21,B22),(B31,B32),(B41,B42),(B51,B52),..,(Bm1,Bm2)]\n",
    "</pre>\n",
    "and set of line equations(in the string formate, i.e list of strings)\n",
    "<pre>\n",
    "Lines = [a1x+b1y+c1,a2x+b2y+c2,a3x+b3y+c3,a4x+b4y+c4,..,K lines]\n",
    "Note: you need to string parsing here and get the coefficients of x,y and intercept\n",
    "</pre>\n",
    "your task is to for each line that is given print \"YES\"/\"NO\", you will print yes, if all the red points are one side of the line and blue points are other side of the line, otherwise no\n",
    "<pre>\n",
    "Ex:\n",
    "Red= [(1,1),(2,1),(4,2),(2,4), (-1,4)]\n",
    "Blue= [(-2,-1),(-1,-2),(-3,-2),(-3,-1),(1,-3)]\n",
    "Lines=[\"1x+1y+0\",\"1x-1y+0\",\"1x+0y-3\",\"0x+1y-0.5\"]\n",
    "<img src='https://i.imgur.com/DoQf7mE.jpg' width=400>\n",
    "Output:\n",
    "YES\n",
    "NO\n",
    "NO\n",
    "YES\n",
    "</pre>"
   ]
  },
  {
   "cell_type": "code",
   "execution_count": 3,
   "metadata": {
    "colab": {},
    "colab_type": "code",
    "id": "eRxExaTRB-k6"
   },
   "outputs": [
    {
     "name": "stdout",
     "output_type": "stream",
     "text": [
      "[[2, 3, 6, 6, 3], [0, 1, 2, -2, -5], [4, 5, 7, 5, 2], [1, 1, 2, 4, 4]]\n",
      "----------------------------------------------------------------------\n",
      "[[-3, -3, -5, -4, -2], [-1, 1, -1, -2, 4], [1, 2, 0, 0, 4], [-1, -2, -2, -1, -3]]\n",
      "----------------------------------------------------------------------\n",
      "[[-6, -9, -30, -24, -6], [-2, -20], [], [-1, -2, -4, -4, -12]]\n",
      "YES\n",
      "NO\n",
      "NO\n",
      "YES\n"
     ]
    }
   ],
   "source": [
    "import math\n",
    "# write your python code here\n",
    "# you can take the above example as sample input for your program to test\n",
    "# it should work for any general input try not to hard code for only given input strings\n",
    "\n",
    "\n",
    "# you can free to change all these codes/structure\n",
    "def i_am_the_one(Red,Blue,Lines):\n",
    "    equation1 = []\n",
    "    equation2 = []\n",
    "    for k in Lines:\n",
    "        a=k[0];b=k[2]+k[3];c=k[5]+k[6]\n",
    "        n = [];m=[]\n",
    "        for i in Red:\n",
    "            x1=i[0];y1=i[1]\n",
    "            eq1 = int(a) * int(x1) + int(b) * int(y1)-int(c)\n",
    "            n.append(eq1)\n",
    "        equation1.append(n)\n",
    "        for j in Blue:\n",
    "            x2=j[0];y2=j[1]\n",
    "            eq2 = int(a) * int(x2) + int(b) * int(y2)-int(c)\n",
    "            m.append(eq2)\n",
    "        equation2.append(m)\n",
    "    print(equation1)\n",
    "    print('----------------------------------------------------------------------')\n",
    "    print(equation2)\n",
    "    print('----------------------------------------------------------------------')\n",
    "    p=[]\n",
    "    for i,j in zip(equation1,equation2):\n",
    "        q = []\n",
    "        for k,l in zip(i,j):\n",
    "            x=k*l\n",
    "            if x<0:\n",
    "                q.append(x)\n",
    "        p.append(q)\n",
    "    print(p)\n",
    "    for i in p:\n",
    "        if len(i)==5:\n",
    "            print('YES')\n",
    "        else:\n",
    "            print('NO')\n",
    "\n",
    "\n",
    "Red= [(1,1),(2,1),(4,2),(2,4), (-1,4)]\n",
    "Blue= [(-2,-1),(-1,-2),(-3,-2),(-3,-1),(1,-3)]\n",
    "Lines=[\"1x+1y+0\",\"1x-1y+0\",\"1x+0y-3\",\"0x+1y-0.5\"]\n",
    "\n",
    "i_am_the_one(Red, Blue,Lines)\n"
   ]
  },
  {
   "cell_type": "markdown",
   "metadata": {
    "colab_type": "text",
    "id": "9OBpURbNB-k9"
   },
   "source": [
    "<h3> Q7: Filling the missing values in the specified formate</h3>\n",
    "You will be given a string with digits and '\\_'(missing value) symbols you have to replace the '\\_' symbols as explained \n",
    "<pre>\n",
    "Ex 1: _, _, _, 24 ==> 24/4, 24/4, 24/4, 24/4 i.e we. have distributed the 24 equally to all 4 places <br>\n",
    "Ex 2: 40, _, _, _, 60 ==> (60+40)/5,(60+40)/5,(60+40)/5,(60+40)/5,(60+40)/5 ==> 20, 20, 20, 20, 20 i.e. the sum of (60+40) is distributed qually to all 5 places<br>\n",
    "Ex 3: 80, _, _, _, _  ==> 80/5,80/5,80/5,80/5,80/5 ==> 16, 16, 16, 16, 16 i.e. the 80 is distributed qually to all 5 missing values that are right to it<br>\n",
    "Ex 4: _, _, 30, _, _, _, 50, _, _  \n",
    "==> we will fill the missing values from left to right \n",
    "    a. first we will distribute the 30 to left two missing values (10, 10, 10, _, _, _, 50, _, _)\n",
    "    b. now distribute the sum (10+50) missing values in between (10, 10, 12, 12, 12, 12, 12, _, _) \n",
    "    c. now we will distribute 12 to right side missing values (10, 10, 12, 12, 12, 12, 4, 4, 4)\n",
    "</pre>\n",
    "for a given string with comma seprate values, which will have both missing values numbers like ex: \"_, _, x, _, _, _\"\n",
    "you need fill the missing values\n",
    "\n",
    "Q: your program reads a string like ex: \"_, _, x, _, _, _\" and returns the filled sequence\n",
    "\n",
    "Ex: \n",
    "<pre>\n",
    "Input1: \"_,_,_,24\"\n",
    "Output1: 6,6,6,6\n",
    "\n",
    "Input2: \"40,_,_,_,60\"\n",
    "Output2: 20,20,20,20,20\n",
    "\n",
    "Input3: \"80,_,_,_,_\"\n",
    "Output3: 16,16,16,16,16\n",
    "\n",
    "Input4: \"_,_,30,_,_,_,50,_,_\"\n",
    "Output4: 10,10,12,12,12,12,4,4,4\n",
    "</pre>\n",
    "\n"
   ]
  },
  {
   "cell_type": "code",
   "execution_count": 4,
   "metadata": {
    "colab": {},
    "colab_type": "code",
    "id": "nZmpzHs_B-k-"
   },
   "outputs": [
    {
     "name": "stdout",
     "output_type": "stream",
     "text": [
      "[6.0, 6.0, 6.0, 6.0]\n",
      "[20.0, 20.0, 20.0, 20.0, 20.0]\n",
      "[10.0, 10.0, 12.0, 12.0, 12.0, 12.0, 4.0, 4.0, 4.0]\n"
     ]
    }
   ],
   "source": [
    "def curve_smoothing(x, a, b):\n",
    "    if a == -1:\n",
    "        v = float(x[b])/(b+1)\n",
    "        for i in range(a+1,b+1):\n",
    "            x[i] = v\n",
    "    elif b == -1:\n",
    "        v = float(x[a])/(len(x)-a)\n",
    "        for i in range(a, len(x)):\n",
    "            x[i] = v\n",
    "    else:\n",
    "        v = (float(x[a])+float(x[b]))/(b-a+1)\n",
    "        for i in range(a,b+1):\n",
    "            x[i] = v\n",
    "    return x\n",
    "\n",
    "def compute_dashes(text):\n",
    "    x = text.replace(\" \",\"\").split(\",\")\n",
    "    m = [i for i, v in enumerate(x) if v != '_']\n",
    "    # Starting with _ ?\n",
    "    if m[0] != 0:\n",
    "        m = [-1] + m\n",
    "    # Ending with _ ?\n",
    "    if m[-1] != len(x)-1:\n",
    "        m = m + [-1]\n",
    "    # run over all the pairs\n",
    "    for (a, b) in zip(m[:-1], m[1:]): \n",
    "        curve_smoothing(x,a,b)          \n",
    "    return x\n",
    "\n",
    "# Test cases\n",
    "S = [\"_,_,_,24\",\n",
    "         \"40,_,_,_,60\",\n",
    "     \"_,_,30,_,_,_,50,_,_\"]\n",
    "\n",
    "for i in S:\n",
    "    print (compute_dashes(i))\n"
   ]
  },
  {
   "cell_type": "markdown",
   "metadata": {
    "colab_type": "text",
    "id": "RBz4pzlfB-lB"
   },
   "source": [
    "<h3> Q8: Filling the missing values in the specified formate</h3>\n",
    "You will be given a list of lists, each sublist will be of length 2 i.e. [[x,y],[p,q],[l,m]..[r,s]]\n",
    "consider its like a martrix of n rows and two columns\n",
    "1. the first column F will contain only 5 uniques values (F1, F2, F3, F4, F5)\n",
    "2. the second column S will contain only 3 uniques values (S1, S2, S3)\n",
    "<pre>\n",
    "your task is to find\n",
    "a. Probability of P(F=F1|S==S1), P(F=F1|S==S2), P(F=F1|S==S3)\n",
    "b. Probability of P(F=F2|S==S1), P(F=F2|S==S2), P(F=F2|S==S3)\n",
    "c. Probability of P(F=F3|S==S1), P(F=F3|S==S2), P(F=F3|S==S3)\n",
    "d. Probability of P(F=F4|S==S1), P(F=F4|S==S2), P(F=F4|S==S3)\n",
    "e. Probability of P(F=F5|S==S1), P(F=F5|S==S2), P(F=F5|S==S3)\n",
    "</pre>\n",
    "Ex:\n",
    "\n",
    "<pre>\n",
    "[[F1,S1],[F2,S2],[F3,S3],[F1,S2],[F2,S3],[F3,S2],[F2,S1],[F4,S1],[F4,S3],[F5,S1]]\n",
    "\n",
    "a. P(F=F1|S==S1)=1/4, P(F=F1|S==S2)=1/3, P(F=F1|S==S3)=0/3\n",
    "b. P(F=F2|S==S1)=1/4, P(F=F2|S==S2)=1/3, P(F=F2|S==S3)=1/3\n",
    "c. P(F=F3|S==S1)=0/4, P(F=F3|S==S2)=1/3, P(F=F3|S==S3)=1/3\n",
    "d. P(F=F4|S==S1)=1/4, P(F=F4|S==S2)=0/3, P(F=F4|S==S3)=1/3\n",
    "e. P(F=F5|S==S1)=1/4, P(F=F5|S==S2)=0/3, P(F=F5|S==S3)=0/3\n",
    "</pre>\n",
    "\n",
    "\n"
   ]
  },
  {
   "cell_type": "code",
   "execution_count": 5,
   "metadata": {
    "colab": {},
    "colab_type": "code",
    "id": "e-1giz1MB-lC"
   },
   "outputs": [
    {
     "name": "stdout",
     "output_type": "stream",
     "text": [
      "P(F=F1|S==S1)=1/4(0.25)\n",
      "P(F=F1|S==S2)=1/3(0.3333333333333333)\n",
      "P(F=F1|S==S3)=0/3(0.0)\n",
      "P(F=F2|S==S1)=1/4(0.25)\n",
      "P(F=F2|S==S2)=1/3(0.3333333333333333)\n",
      "P(F=F2|S==S3)=1/3(0.3333333333333333)\n",
      "P(F=F3|S==S1)=0/4(0.0)\n",
      "P(F=F3|S==S2)=1/3(0.3333333333333333)\n",
      "P(F=F3|S==S3)=1/3(0.3333333333333333)\n",
      "P(F=F4|S==S1)=1/4(0.25)\n",
      "P(F=F4|S==S2)=0/3(0.0)\n",
      "P(F=F4|S==S3)=1/3(0.3333333333333333)\n",
      "P(F=F5|S==S1)=1/4(0.25)\n",
      "P(F=F5|S==S2)=0/3(0.0)\n",
      "P(F=F5|S==S3)=0/3(0.0)\n"
     ]
    }
   ],
   "source": [
    "def compute_conditional_probabilites(F,S):\n",
    "    numerator,denominator,prob=0,0,0\n",
    "    for i in range(len(A)):\n",
    "        if(A[i][1]==S):\n",
    "            denominator=denominator+1\n",
    "            if(A[i][0]==F):\n",
    "                numerator=numerator+1\n",
    "    prob=numerator/denominator\n",
    "    print('P(F={}|S=={})={}/{}({})'.format(F, S, numerator, denominator ,prob))\n",
    "\n",
    "A = [['F1','S1'],['F2','S2'],['F3','S3'],['F1','S2'],['F2','S3'],['F3','S2'],['F2','S1'],['F4','S1'],['F4','S3'],['F5','S1']]\n",
    "for f in ['F1', 'F2', 'F3', 'F4', 'F5']:\n",
    "    for s in ['S1', 'S2', 'S3']:\n",
    "        compute_conditional_probabilites(f,s)\n"
   ]
  },
  {
   "cell_type": "markdown",
   "metadata": {
    "colab_type": "text",
    "id": "n4HS87QmB-lF"
   },
   "source": [
    "<h3> Q9: Given two sentances S1, S2</h3>\n",
    "You will be given two sentances S1, S2 your task is to find \n",
    "<pre>\n",
    "a. Number of common words between S1, S2\n",
    "b. Words in S1 but not in S2\n",
    "c. Words in S2 but not in S1\n",
    "</pre>\n",
    "\n",
    "Ex: \n",
    "<pre>\n",
    "S1= \"the first column F will contain only 5 uniques values\"\n",
    "S2= \"the second column S will contain only 3 uniques values\"\n",
    "Output:\n",
    "a. 7\n",
    "b. ['first','F','5']\n",
    "c. ['second','S','3']\n",
    "</pre>"
   ]
  },
  {
   "cell_type": "code",
   "execution_count": 6,
   "metadata": {
    "colab": {},
    "colab_type": "code",
    "id": "Ez7hlHK0B-lG"
   },
   "outputs": [
    {
     "name": "stdout",
     "output_type": "stream",
     "text": [
      "['first', 'F', '5']\n",
      "['second', 'S', '3']\n",
      "7\n"
     ]
    }
   ],
   "source": [
    "def string_features(s0, s1):\n",
    "    word2=[]\n",
    "    word1=[]\n",
    "    s0 = s0.split(\" \")\n",
    "    s1 = s1.split(\" \")\n",
    "    if(len(s0)==len(s1)):\n",
    "        for letter in s0:\n",
    "            if letter not in s1:\n",
    "                word2.append(letter)\n",
    "        print(word2)\n",
    "    if(len(s0)==len(s1)):\n",
    "        for letter in s1:\n",
    "            if letter not in s0:\n",
    "                word1.append(letter)\n",
    "        print(word1)\n",
    "    return len(list(set(s0)&set(s1)))\n",
    "S = \"the first column F will contain only 5 uniques values\"\n",
    "T = \"the second column S will contain only 3 uniques values\"\n",
    "result = string_features(S,T)\n",
    "print(result)\n"
   ]
  },
  {
   "cell_type": "markdown",
   "metadata": {
    "colab_type": "text",
    "id": "XefXVEjCB-lI"
   },
   "source": [
    "<h3> Q10: Given two sentances S1, S2</h3>\n",
    "You will be given a list of lists, each sublist will be of length 2 i.e. [[x,y],[p,q],[l,m]..[r,s]]\n",
    "consider its like a martrix of n rows and two columns\n",
    "\n",
    "a. the first column Y will contain interger values <br>\n",
    "b. the second column $Y_{score}$ will be having float values <br>\n",
    "Your task is to find the value of $f(Y,Y_{score}) = -1*\\frac{1}{n}\\Sigma_{for each Y,Y_{score} pair}(Ylog10(Y_{score})+(1-Y)log10(1-Y_{score}))$ here n is the number of rows in the matrix\n",
    "<pre>\n",
    "Ex:\n",
    "[[1, 0.4], [0, 0.5], [0, 0.9], [0, 0.3], [0, 0.6], [1, 0.1], [1, 0.9], [1, 0.8]]\n",
    "output:\n",
    "0.4243099\n",
    "</pre>\n",
    "$\\frac{-1}{8}\\cdot((1\\cdot log_{10}(0.4)+0\\cdot log_{10}(0.6))+(0\\cdot log_{10}(0.5)+1\\cdot log_{10}(0.5)) + ... + (1\\cdot log_{10}(0.8)+0\\cdot log_{10}(0.2)) )$"
   ]
  },
  {
   "cell_type": "code",
   "execution_count": 7,
   "metadata": {
    "colab": {},
    "colab_type": "code",
    "id": "N9zkagyNB-lJ"
   },
   "outputs": [
    {
     "name": "stdout",
     "output_type": "stream",
     "text": [
      "Log loss:0.42430993457031635\n"
     ]
    }
   ],
   "source": [
    "import math\n",
    "def compute_log_loss(A):\n",
    "    m={}\n",
    "    x=[]\n",
    "    for i in range(len(A)):\n",
    "        m[i] = (A[i][0])*math.log10(A[i][1])+(1-A[i][0])*math.log10(1-A[i][1])\n",
    "    x=sum(m.values())\n",
    "    x=x*(-1/len(A))\n",
    "    return x\n",
    "\n",
    "A = [[1, 0.4], [0, 0.5], [0, 0.9], [0, 0.3], [0, 0.6], [1, 0.1], [1, 0.9], [1, 0.8]]\n",
    "loss = compute_log_loss(A)\n",
    "print('Log loss:{}' .format(loss))"
   ]
  },
  {
   "cell_type": "code",
   "execution_count": null,
   "metadata": {},
   "outputs": [],
   "source": []
  }
 ],
 "metadata": {
  "colab": {
   "collapsed_sections": [],
   "name": "1.Python Assignment.ipynb",
   "provenance": []
  },
  "kernelspec": {
   "display_name": "Python 3",
   "language": "python",
   "name": "python3"
  },
  "language_info": {
   "codemirror_mode": {
    "name": "ipython",
    "version": 3
   },
   "file_extension": ".py",
   "mimetype": "text/x-python",
   "name": "python",
   "nbconvert_exporter": "python",
   "pygments_lexer": "ipython3",
   "version": "3.6.5"
  }
 },
 "nbformat": 4,
 "nbformat_minor": 1
}
